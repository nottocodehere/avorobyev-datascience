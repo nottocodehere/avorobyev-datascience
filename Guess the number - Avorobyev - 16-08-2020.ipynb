{
 "cells": [
  {
   "cell_type": "code",
   "execution_count": null,
   "metadata": {},
   "outputs": [],
   "source": [
    "import numpy as np\n",
    "count = 0                            # счетчик попыток\n",
    "number = np.random.randint(1, 101)    # загадали число\n",
    "print(\"Загадано число от 1 до 100\")"
   ]
  },
  {
   "cell_type": "code",
   "execution_count": null,
   "metadata": {},
   "outputs": [],
   "source": [
    "def game_core_av(number):\n",
    "\n",
    "    count = 1  # Задаем значение счетчика\n",
    "    predict = 50  # Устанавливаем предиктор - середину от заданного множества\n",
    "    # Вводим переменную-инкремент, которая равна середине от уже сокращенного множества (50,100) = 75\n",
    "    increment = predict // 2\n",
    "\n",
    "    '''Вводим цикл. Каждый проход сокращает отрезок, в котором проводится поиск наполовину, т.е. сначала мы ищем либо в отрезке 1-50, \n",
    "    либо 51-100. Следующий проход цикла - сокращает отрезки 1-25 26-50 51-75 76-100'''\n",
    "    while number != predict:\n",
    "        count += 1\n",
    "        if increment == 0:  # поправочное условие. Если целочисленный остаток от деления приравнен к нулю, цикл станет бесконечным.\n",
    "            increment = 1\n",
    "\n",
    "        if predict < number:\n",
    "            predict += increment\n",
    "            increment = increment // 2\n",
    "\n",
    "        elif predict > number:\n",
    "            predict = predict - increment\n",
    "            increment = increment // 2\n",
    "    \n",
    "    return count\n",
    "    \n",
    "\n",
    "\n",
    "def score_game(game_core):\n",
    "    '''Запускаем игру 1000 раз, чтобы узнать, как быстро игра угадывает число'''\n",
    "    count_ls = []\n",
    "    # фиксируем RANDOM SEED, чтобы ваш эксперимент был воспроизводим!\n",
    "    np.random.seed(1)\n",
    "    random_array = np.random.randint(1, 101, size=(1000))\n",
    "    for number in random_array:\n",
    "        count_ls.append(game_core_av(number))\n",
    "    score = int(np.mean(count_ls))\n",
    "    print(f\"Ваш алгоритм угадывает число в среднем за {score} попыток\")\n",
    "    return(score)"
   ]
  },
  {
   "cell_type": "code",
   "execution_count": null,
   "metadata": {},
   "outputs": [],
   "source": [
    "score_game(game_core_av)"
   ]
  }
 ],
 "metadata": {
  "kernelspec": {
   "display_name": "Python 3",
   "language": "python",
   "name": "python3"
  },
  "language_info": {
   "codemirror_mode": {
    "name": "ipython",
    "version": 3
   },
   "file_extension": ".py",
   "mimetype": "text/x-python",
   "name": "python",
   "nbconvert_exporter": "python",
   "pygments_lexer": "ipython3",
   "version": "3.7.6"
  }
 },
 "nbformat": 4,
 "nbformat_minor": 4
}
